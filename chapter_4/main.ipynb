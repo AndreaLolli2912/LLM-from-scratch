{
 "cells": [
  {
   "cell_type": "code",
   "execution_count": 4,
   "id": "67db4547",
   "metadata": {},
   "outputs": [],
   "source": [
    "import torch\n",
    "import torch.nn as nn"
   ]
  },
  {
   "cell_type": "code",
   "execution_count": 2,
   "id": "6d489d44",
   "metadata": {},
   "outputs": [],
   "source": [
    "# configuration of GPT-2 model\n",
    "GPT_CONFIG_124M = {\n",
    "    \"vocab_size\": 50_257, # number of tokens of BPE tokenizer\n",
    "    \"context_length\": 1_024, # maximum number of input tokens the model can handle via positional embedding\n",
    "    \"emb_dim\": 768, # embedding size, transforms each token into 768-dimensional vector\n",
    "    \"n_heads\": 12, # count of attention heads in the multi.head attention mechanism\n",
    "    \"n_layers\": 12, # count of transformer block in the model NOTE: (does it have to be equal to number of heads?)\n",
    "    \"drop_rate\": 0.1,\n",
    "    \"qkv_bias\": False\n",
    "}"
   ]
  },
  {
   "cell_type": "markdown",
   "id": "8774b8c6",
   "metadata": {},
   "source": [
    "A placeholder GPT model architecture class"
   ]
  },
  {
   "cell_type": "code",
   "execution_count": null,
   "id": "0af3b1f9",
   "metadata": {},
   "outputs": [
    {
     "ename": "SyntaxError",
     "evalue": "invalid syntax (4199948351.py, line 4)",
     "output_type": "error",
     "traceback": [
      "  \u001b[36mCell\u001b[39m\u001b[36m \u001b[39m\u001b[32mIn[7]\u001b[39m\u001b[32m, line 4\u001b[39m\n\u001b[31m    \u001b[39m\u001b[31mself.tok_emb =\u001b[39m\n                   ^\n\u001b[31mSyntaxError\u001b[39m\u001b[31m:\u001b[39m invalid syntax\n"
     ]
    }
   ],
   "source": [
    "class DummyGPTModel(nn.Module):\n",
    "    def __init__(self, cfg):\n",
    "        super().__init__()\n",
    "        \n",
    "        self.tok_emb = nn.Embedding(num_embeddings=cfg[\"vocab_size\"], embedding_dim=cfg[\"emb_dim\"])\n",
    "        self.pos_emb = nn.Embedding(num_embeddings=cfg[\"vocab_size\"], embedding_dim=cfg[\"emb_dim\"])\n",
    "        self.drop_emb = nn.Dropout(p=cfg[\"drop_rate\"])\n",
    "        # Use a placeholder for TransformerBlock\n",
    "        self.trf_blocks = nn.Sequential(\n",
    "            *[DummyTransformerBlock(cfg) \n",
    "              for _ in range(cfg[\"n_layers\"])]\n",
    "        )\n",
    "        # Use a placeholder for LayerNorm\n",
    "        self.final_norm = DummyLayerNorm(cfg[\"emb_dim\"])\n",
    "        # final layer for prediction, it will output probability for each token\n",
    "        self.out_head = nn.Linear(\n",
    "           in_features=cfg[\"emb_dim\"], out_features=[\"vocab_size\"],\n",
    "           bias=False \n",
    "        )\n",
    "    \n",
    "    def forward(self, in_idx):\n",
    "        batch_size, seq_len = in_idx.shape\n",
    "        tok_embeds = self.tok_emb(in_idx)\n",
    "        pos_embeds = self.pos_emb(\n",
    "            torch.arange()\n",
    "        )\n",
    "\n",
    "\n",
    "class DummyTransformerBlock(nn.Module):\n",
    "    def __init__(self, *args, **kwargs):\n",
    "        super().__init__(*args, **kwargs)\n",
    "\n",
    "    def forward(self, x):\n",
    "        pass\n",
    "\n",
    "class DummyLayerNorm(nn.Module):\n",
    "    def __init__(self, *args, **kwargs):\n",
    "        super().__init__(*args, **kwargs)\n",
    "    \n",
    "    def forward(self, x):\n",
    "        oass"
   ]
  }
 ],
 "metadata": {
  "kernelspec": {
   "display_name": ".venv",
   "language": "python",
   "name": "python3"
  },
  "language_info": {
   "codemirror_mode": {
    "name": "ipython",
    "version": 3
   },
   "file_extension": ".py",
   "mimetype": "text/x-python",
   "name": "python",
   "nbconvert_exporter": "python",
   "pygments_lexer": "ipython3",
   "version": "3.12.4"
  }
 },
 "nbformat": 4,
 "nbformat_minor": 5
}
