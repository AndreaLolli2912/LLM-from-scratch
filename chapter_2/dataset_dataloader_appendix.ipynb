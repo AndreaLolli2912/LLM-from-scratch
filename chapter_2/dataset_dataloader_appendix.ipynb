{
 "cells": [
  {
   "cell_type": "code",
   "execution_count": 1,
   "metadata": {},
   "outputs": [],
   "source": [
    "import torch"
   ]
  },
  {
   "cell_type": "code",
   "execution_count": 3,
   "metadata": {},
   "outputs": [],
   "source": [
    "X_train, X_test = torch.rand(5, 2), torch.rand(2, 2)\n",
    "y_train, y_test = torch.tensor([0, 0, 0, 1, 1]), torch.tensor([0, 1])"
   ]
  },
  {
   "cell_type": "code",
   "execution_count": 4,
   "metadata": {},
   "outputs": [],
   "source": [
    "# NOTE: Pytorch requires that class labels start with label 0, \n",
    "# and the largest class label value should not exceed the number of output nodes minus 1 (output layer wise)\n",
    "\n",
    "from torch.utils.data import Dataset\n",
    "\n",
    "class ToyDataset(Dataset):\n",
    "    def __init__(self, X, y): # set up the attributes that we can access later in the other methods\n",
    "        self.features = X\n",
    "        self.labels = y\n",
    "\n",
    "    def __getitem__(self, index): # define instructions for returning exactly one item from the dataset via index\n",
    "        one_x = self.features[index]\n",
    "        one_y = self.labels[index]\n",
    "        return one_x, one_y\n",
    "\n",
    "    def __len__(self): # retrieve the lenght of the dataset\n",
    "        return self.labels.shape[0]\n",
    "\n",
    "train_ds = ToyDataset(X=X_train, y=y_train)\n",
    "test_ds = ToyDataset(X=X_test, y=y_test)\n",
    "\n",
    "# The purpose of this custom ToyDataset class is to instantiate a PyTorch DataLoader."
   ]
  },
  {
   "cell_type": "code",
   "execution_count": 5,
   "metadata": {},
   "outputs": [],
   "source": [
    "from torch.utils.data import DataLoader\n",
    "\n",
    "torch.manual_seed(123)\n",
    "\n",
    "train_loader = DataLoader(\n",
    "    dataset=train_ds,\n",
    "    batch_size=2,\n",
    "    shuffle=True,\n",
    "    drop_last=False,\n",
    "    num_workers=0\n",
    ")\n",
    "\n",
    "test_loader = DataLoader(\n",
    "    dataset=test_ds,\n",
    "    batch_size=2,\n",
    "    shuffle=False,\n",
    "    drop_last=False,\n",
    "    num_workers=0\n",
    ")"
   ]
  },
  {
   "cell_type": "code",
   "execution_count": 6,
   "metadata": {},
   "outputs": [
    {
     "name": "stdout",
     "output_type": "stream",
     "text": [
      "Batch 1: tensor([[0.4976, 0.8031],\n",
      "        [0.9427, 0.3825]]) tensor([1, 0])\n",
      "Batch 2: tensor([[0.4517, 0.8602],\n",
      "        [0.6670, 0.1880]]) tensor([0, 0])\n",
      "Batch 3: tensor([[0.4873, 0.0292]]) tensor([1])\n"
     ]
    }
   ],
   "source": [
    "# After instantiating the training dataloader, we can iterate over it\n",
    "\n",
    "for idx, (x, y) in enumerate(train_loader):\n",
    "    print(f\"Batch {idx+1}:\", x, y)"
   ]
  }
 ],
 "metadata": {
  "kernelspec": {
   "display_name": ".venv",
   "language": "python",
   "name": "python3"
  },
  "language_info": {
   "codemirror_mode": {
    "name": "ipython",
    "version": 3
   },
   "file_extension": ".py",
   "mimetype": "text/x-python",
   "name": "python",
   "nbconvert_exporter": "python",
   "pygments_lexer": "ipython3",
   "version": "3.12.4"
  }
 },
 "nbformat": 4,
 "nbformat_minor": 2
}
